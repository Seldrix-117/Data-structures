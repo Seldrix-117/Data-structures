{
  "nbformat": 4,
  "nbformat_minor": 0,
  "metadata": {
    "colab": {
      "provenance": [],
      "authorship_tag": "ABX9TyPTvWA872p1oJklMY8ZHEX2",
      "include_colab_link": true
    },
    "kernelspec": {
      "name": "python3",
      "display_name": "Python 3"
    },
    "language_info": {
      "name": "python"
    }
  },
  "cells": [
    {
      "cell_type": "markdown",
      "metadata": {
        "id": "view-in-github",
        "colab_type": "text"
      },
      "source": [
        "<a href=\"https://colab.research.google.com/github/Seldrix-117/Data-structures/blob/main/BINARYTREE.ipynb\" target=\"_parent\"><img src=\"https://colab.research.google.com/assets/colab-badge.svg\" alt=\"Open In Colab\"/></a>"
      ]
    },
    {
      "cell_type": "code",
      "execution_count": 1,
      "metadata": {
        "colab": {
          "base_uri": "https://localhost:8080/"
        },
        "id": "Z2_zpA31itXw",
        "outputId": "de7754f3-7a90-4d3a-dbcd-4ae38ad5577e"
      },
      "outputs": [
        {
          "output_type": "stream",
          "name": "stdout",
          "text": [
            "Buscar 40: True\n",
            "Eliminar 20\n",
            "Buscar 20: False\n"
          ]
        }
      ],
      "source": [
        "# Necesitarás instalar graphviz y su binding para python antes de ejecutar este código:\n",
        "# pip install graphviz\n",
        "\n",
        "import graphviz\n",
        "\n",
        "# Clase para representar un nodo del árbol binario\n",
        "class Nodo:\n",
        "    def __init__(self, clave):\n",
        "        self.izquierdo = None\n",
        "        self.derecho = None\n",
        "        self.clave = clave\n",
        "\n",
        "# Clase para el Árbol Binario\n",
        "class ArbolBinario:\n",
        "    def __init__(self):\n",
        "        self.raiz = None\n",
        "\n",
        "    # Método para insertar una nueva clave\n",
        "    def insertar(self, clave):\n",
        "        if self.raiz is None:\n",
        "            self.raiz = Nodo(clave)\n",
        "        else:\n",
        "            self._insertar(self.raiz, clave)\n",
        "\n",
        "    def _insertar(self, actual, clave):\n",
        "        if clave < actual.clave:\n",
        "            if actual.izquierdo is None:\n",
        "                actual.izquierdo = Nodo(clave)\n",
        "            else:\n",
        "                self._insertar(actual.izquierdo, clave)\n",
        "        else:\n",
        "            if actual.derecho is None:\n",
        "                actual.derecho = Nodo(clave)\n",
        "            else:\n",
        "                self._insertar(actual.derecho, clave)\n",
        "\n",
        "    # Método para buscar una clave\n",
        "    def buscar(self, clave):\n",
        "        return self._buscar(self.raiz, clave)\n",
        "\n",
        "    def _buscar(self, actual, clave):\n",
        "        if actual is None or actual.clave == clave:\n",
        "            return actual\n",
        "        if clave < actual.clave:\n",
        "            return self._buscar(actual.izquierdo, clave)\n",
        "        return self._buscar(actual.derecho, clave)\n",
        "\n",
        "    # Método para eliminar una clave\n",
        "    def eliminar(self, clave):\n",
        "        self.raiz = self._eliminar(self.raiz, clave)\n",
        "\n",
        "    def _eliminar(self, actual, clave):\n",
        "        if actual is None:\n",
        "            return actual\n",
        "        if clave < actual.clave:\n",
        "            actual.izquierdo = self._eliminar(actual.izquierdo, clave)\n",
        "        elif clave > actual.clave:\n",
        "            actual.derecho = self._eliminar(actual.derecho, clave)\n",
        "        else:\n",
        "            # Caso 1: El nodo no tiene hijos o tiene un solo hijo\n",
        "            if actual.izquierdo is None:\n",
        "                return actual.derecho\n",
        "            elif actual.derecho is None:\n",
        "                return actual.izquierdo\n",
        "            # Caso 2: El nodo tiene dos hijos, encontrar el sucesor en el subárbol derecho\n",
        "            temp = self._minimo(actual.derecho)\n",
        "            actual.clave = temp.clave\n",
        "            actual.derecho = self._eliminar(actual.derecho, temp.clave)\n",
        "        return actual\n",
        "\n",
        "    def _minimo(self, nodo):\n",
        "        actual = nodo\n",
        "        while actual.izquierdo is not None:\n",
        "            actual = actual.izquierdo\n",
        "        return actual\n",
        "\n",
        "    # Método para generar una representación gráfica del árbol\n",
        "    def generar_grafico(self):\n",
        "        dot = graphviz.Digraph()\n",
        "        if self.raiz:\n",
        "            self._agregar_nodo(dot, self.raiz)\n",
        "        return dot\n",
        "\n",
        "    def _agregar_nodo(self, dot, nodo):\n",
        "        dot.node(str(nodo.clave), str(nodo.clave))\n",
        "        if nodo.izquierdo:\n",
        "            dot.edge(str(nodo.clave), str(nodo.izquierdo.clave))\n",
        "            self._agregar_nodo(dot, nodo.izquierdo)\n",
        "        if nodo.derecho:\n",
        "            dot.edge(str(nodo.clave), str(nodo.derecho.clave))\n",
        "            self._agregar_nodo(dot, nodo.derecho)\n",
        "\n",
        "# Ejemplo de uso:\n",
        "if __name__ == \"__main__\":\n",
        "    arbol = ArbolBinario()\n",
        "    arbol.insertar(50)\n",
        "    arbol.insertar(30)\n",
        "    arbol.insertar(70)\n",
        "    arbol.insertar(20)\n",
        "    arbol.insertar(40)\n",
        "    arbol.insertar(60)\n",
        "    arbol.insertar(80)\n",
        "\n",
        "    print(\"Buscar 40:\", arbol.buscar(40) is not None)  # True\n",
        "    print(\"Eliminar 20\")\n",
        "    arbol.eliminar(20)\n",
        "    print(\"Buscar 20:\", arbol.buscar(20) is not None)  # False\n",
        "\n",
        "    # Generar el gráfico y guardarlo en un archivo\n",
        "    dot = arbol.generar_grafico()\n",
        "    dot.render(\"arbol_binario\", format=\"png\", cleanup=False)"
      ]
    }
  ]
}