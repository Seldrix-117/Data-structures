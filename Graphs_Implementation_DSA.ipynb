{
  "nbformat": 4,
  "nbformat_minor": 0,
  "metadata": {
    "colab": {
      "provenance": [],
      "authorship_tag": "ABX9TyOKIpzdsCMdAHo3TN8O0MRh",
      "include_colab_link": true
    },
    "kernelspec": {
      "name": "python3",
      "display_name": "Python 3"
    },
    "language_info": {
      "name": "python"
    }
  },
  "cells": [
    {
      "cell_type": "markdown",
      "metadata": {
        "id": "view-in-github",
        "colab_type": "text"
      },
      "source": [
        "<a href=\"https://colab.research.google.com/github/Seldrix-117/Data-structures/blob/main/Graphs_Implementation_DSA.ipynb\" target=\"_parent\"><img src=\"https://colab.research.google.com/assets/colab-badge.svg\" alt=\"Open In Colab\"/></a>"
      ]
    },
    {
      "cell_type": "code",
      "execution_count": 1,
      "metadata": {
        "colab": {
          "base_uri": "https://localhost:8080/"
        },
        "id": "6KyRZA26ij1c",
        "outputId": "b0de236c-0636-4cf7-a329-f268fca8fff7"
      },
      "outputs": [
        {
          "output_type": "stream",
          "name": "stdout",
          "text": [
            "vertexData: ['A', 'B', 'C', 'D']\n",
            "\n",
            "Adjacency Matrix:\n",
            "[0, 1, 1, 1]\n",
            "[1, 0, 1, 0]\n",
            "[1, 1, 0, 0]\n",
            "[1, 0, 0, 0]\n"
          ]
        }
      ],
      "source": [
        "vertexData = ['A', 'B', 'C', 'D']\n",
        "\n",
        "adjacency_matrix = [\n",
        "    [0, 1, 1, 1],  # Edges for A\n",
        "    [1, 0, 1, 0],  # Edges for B\n",
        "    [1, 1, 0, 0],  # Edges for C\n",
        "    [1, 0, 0, 0]   # Edges for D\n",
        "]\n",
        "\n",
        "def print_adjacency_matrix(matrix):\n",
        "    print(\"\\nAdjacency Matrix:\")\n",
        "    for row in matrix:\n",
        "        print(row)\n",
        "\n",
        "print('vertexData:',vertexData)\n",
        "print_adjacency_matrix(adjacency_matrix)"
      ]
    },
    {
      "cell_type": "code",
      "source": [
        "adjacency_matrix = [\n",
        "    [0, 1, 1, 1],  # Edges for A\n",
        "    [1, 0, 1, 0],  # Edges for B\n",
        "    [1, 1, 0, 0],  # Edges for C\n",
        "    [1, 0, 0, 0]   # Edges for D\n",
        "]\n",
        "\n",
        "def print_adjacency_matrix(matrix):\n",
        "    print(\"Adjacency Matrix:\")\n",
        "    for row in matrix:\n",
        "        print(row)\n",
        "\n",
        "def print_connections(matrix, vertices):\n",
        "    print(\"\\nConnections for each vertex:\")\n",
        "    for i in range(len(vertices)):\n",
        "        print(f\"{vertices[i]}: \", end=\"\")\n",
        "        for j in range(len(vertices)):\n",
        "            if matrix[i][j]:  # if there is a connection\n",
        "                print(vertices[j], end=\" \")\n",
        "        print()  # new line\n",
        "\n",
        "print_adjacency_matrix(adjacency_matrix)\n",
        "print_connections(adjacency_matrix, vertexData)\n"
      ],
      "metadata": {
        "colab": {
          "base_uri": "https://localhost:8080/"
        },
        "id": "kPoQOCwujAJs",
        "outputId": "9d89932a-a51d-4b85-f40e-9c17047e6f78"
      },
      "execution_count": 4,
      "outputs": [
        {
          "output_type": "stream",
          "name": "stdout",
          "text": [
            "Adjacency Matrix:\n",
            "[0, 1, 1, 1]\n",
            "[1, 0, 1, 0]\n",
            "[1, 1, 0, 0]\n",
            "[1, 0, 0, 0]\n",
            "\n",
            "Connections for each vertex:\n",
            "A: B C D \n",
            "B: A C \n",
            "C: A B \n",
            "D: A \n"
          ]
        }
      ]
    },
    {
      "cell_type": "code",
      "source": [
        "class Graph:\n",
        "    def __init__(self, size):\n",
        "        self.adj_matrix = [[0] * size for _ in range(size)]\n",
        "        self.size = size\n",
        "        self.vertex_data = [''] * size\n",
        "\n",
        "    def add_edge(self, u, v):\n",
        "        if 0 <= u < self.size and 0 <= v < self.size:\n",
        "            self.adj_matrix[u][v] = 1\n",
        "            self.adj_matrix[v][u] = 1\n",
        "\n",
        "    def add_vertex_data(self, vertex, data):\n",
        "        if 0 <= vertex < self.size:\n",
        "            self.vertex_data[vertex] = data\n",
        "\n",
        "    def print_graph(self):\n",
        "        print(\"Adjacency Matrix:\")\n",
        "        for row in self.adj_matrix:\n",
        "            print(' '.join(map(str, row)))\n",
        "        print(\"\\nVertex Data:\")\n",
        "        for vertex, data in enumerate(self.vertex_data):\n",
        "            print(f\"Vertex {vertex}: {data}\")\n",
        "\n",
        "g = Graph(4)\n",
        "g.add_vertex_data(0, 'A')\n",
        "g.add_vertex_data(1, 'B')\n",
        "g.add_vertex_data(2, 'C')\n",
        "g.add_vertex_data(3, 'D')\n",
        "g.add_edge(0, 1)  # A - B\n",
        "g.add_edge(0, 2)  # A - C\n",
        "g.add_edge(0, 3)  # A - D\n",
        "g.add_edge(1, 2)  # B - C\n",
        "\n",
        "g.print_graph()\n"
      ],
      "metadata": {
        "colab": {
          "base_uri": "https://localhost:8080/"
        },
        "id": "Z_MS9trDjRHT",
        "outputId": "930e6644-0a4c-4b11-cd19-e9163e437bf0"
      },
      "execution_count": 7,
      "outputs": [
        {
          "output_type": "stream",
          "name": "stdout",
          "text": [
            "Adjacency Matrix:\n",
            "0 1 1 1\n",
            "1 0 1 0\n",
            "1 1 0 0\n",
            "1 0 0 0\n",
            "\n",
            "Vertex Data:\n",
            "Vertex 0: A\n",
            "Vertex 1: B\n",
            "Vertex 2: C\n",
            "Vertex 3: D\n"
          ]
        }
      ]
    }
  ]
}